{
 "cells": [
  {
   "cell_type": "markdown",
   "id": "f2b6a40a-f66e-4c27-a592-25795b746444",
   "metadata": {},
   "source": [
    "## Instalação do delta"
   ]
  },
  {
   "cell_type": "code",
   "execution_count": 1,
   "id": "08d412e2-f9c4-44ec-8484-a67adebc0590",
   "metadata": {},
   "outputs": [
    {
     "name": "stdout",
     "output_type": "stream",
     "text": [
      "Requirement already satisfied: delta-spark in /opt/conda/lib/python3.11/site-packages (3.2.0)\n",
      "Requirement already satisfied: pyspark<3.6.0,>=3.5.0 in /usr/local/spark/python (from delta-spark) (3.5.0)\n",
      "Requirement already satisfied: importlib-metadata>=1.0.0 in /opt/conda/lib/python3.11/site-packages (from delta-spark) (6.8.0)\n",
      "Requirement already satisfied: zipp>=0.5 in /opt/conda/lib/python3.11/site-packages (from importlib-metadata>=1.0.0->delta-spark) (3.17.0)\n",
      "Requirement already satisfied: py4j==0.10.9.7 in /opt/conda/lib/python3.11/site-packages (from pyspark<3.6.0,>=3.5.0->delta-spark) (0.10.9.7)\n",
      "Note: you may need to restart the kernel to use updated packages.\n"
     ]
    }
   ],
   "source": [
    "pip install delta-spark"
   ]
  },
  {
   "cell_type": "code",
   "execution_count": 29,
   "id": "d6eeda95-e4d9-48dd-95a4-6de9f12e905a",
   "metadata": {},
   "outputs": [],
   "source": [
    "# Restart Kernel\n",
    "from IPython import get_ipython\n",
    " \n",
    "if get_ipython():\n",
    "    get_ipython().kernel.do_shutdown(restart=True)"
   ]
  },
  {
   "cell_type": "markdown",
   "id": "3e510502-203a-4c36-9761-8fc293f7fe0f",
   "metadata": {},
   "source": [
    "## Início do desenvolvimento"
   ]
  },
  {
   "cell_type": "code",
   "execution_count": 10,
   "id": "974040a8-2b5d-4c1f-8904-2c0b24418dd4",
   "metadata": {},
   "outputs": [],
   "source": [
    "import pyspark\n",
    "import pyspark.sql.functions as F\n",
    "from pyspark.sql.types import StructType, StructField, StringType, DoubleType, IntegerType, DateType\n",
    "from delta import *\n",
    "from delta.tables import DeltaTable\n",
    "import datetime"
   ]
  },
  {
   "cell_type": "code",
   "execution_count": 2,
   "id": "90d62037-5fae-4d4f-91a9-cbe52297951c",
   "metadata": {},
   "outputs": [],
   "source": [
    "builder = pyspark.sql.SparkSession.builder.appName(\"MyApp\") \\\n",
    "    .config(\"spark.sql.extensions\", \"io.delta.sql.DeltaSparkSessionExtension\") \\\n",
    "    .config(\"spark.sql.catalog.spark_catalog\", \"org.apache.spark.sql.delta.catalog.DeltaCatalog\")\n",
    "\n",
    "spark = configure_spark_with_delta_pip(builder).getOrCreate()"
   ]
  },
  {
   "cell_type": "code",
   "execution_count": 3,
   "id": "9940f014-d17a-4466-b5d1-12f0f33270a9",
   "metadata": {},
   "outputs": [],
   "source": [
    "source_file_path = \"/home/jovyan/work/financial_data.csv\"\n",
    "target_table_path = \"/home/jovyan/work/delta/financial_data\"\n",
    "target_table_name = \"financial_data\""
   ]
  },
  {
   "cell_type": "code",
   "execution_count": 4,
   "id": "51f6fc5a-e200-4e2a-a00a-7bea80dd9574",
   "metadata": {},
   "outputs": [
    {
     "name": "stdout",
     "output_type": "stream",
     "text": [
      "+------------+--------------+-------+--------------+--------------------+\n",
      "|id_transacao|data_transacao|  valor|tipo_transacao|           descricao|\n",
      "+------------+--------------+-------+--------------+--------------------+\n",
      "|           1|    2024-07-01|1500.45|      DEPOSITO| Depósito de Salário|\n",
      "|           2|    2024-07-02|-200.32|         SAQUE|        Saque em ATM|\n",
      "|           3|    2024-07-03| -50.67|     PAGAMENTO|           Cafeteria|\n",
      "|           4|    2024-07-03|2000.78| TRANSFERENCIA|Transferência par...|\n",
      "|           5|    2024-07-04|-100.25|     PAGAMENTO|        Supermercado|\n",
      "|           6|    2024-07-04| -30.12|     PAGAMENTO|  Transporte Público|\n",
      "|           7|    2024-07-05|2500.89|      DEPOSITO| Pagamento Freelance|\n",
      "|           8|    2024-07-06|-300.55|         SAQUE|        Saque em ATM|\n",
      "|           9|    2024-07-07| -20.30|     PAGAMENTO|   Assinatura Online|\n",
      "|          10|    2024-07-07| 500.40|      DEPOSITO|Retorno de Invest...|\n",
      "|          11|    2024-07-08|3200.99|      DEPOSITO|             Salário|\n",
      "|          12|    2024-07-09|-450.23|     PAGAMENTO|             Aluguel|\n",
      "|          13|    2024-07-10| -75.35|     PAGAMENTO|            Academia|\n",
      "|          14|    2024-07-11|-120.50|     PAGAMENTO|         Restaurante|\n",
      "|          15|    2024-07-12|1800.75| TRANSFERENCIA|Transferência de ...|\n",
      "|          16|    2024-07-13| 300.10|      DEPOSITO|           Reembolso|\n",
      "|          17|    2024-07-14| -60.55|     PAGAMENTO|                Uber|\n",
      "|          18|    2024-07-15| 750.90| TRANSFERENCIA|Transferência par...|\n",
      "|          19|    2024-07-16| -15.45|     PAGAMENTO|                Café|\n",
      "|          20|    2024-07-17|1000.65|      DEPOSITO|               Bônus|\n",
      "|          21|    2024-07-18|-200.90|         SAQUE|        Saque em ATM|\n",
      "|          22|    2024-07-19|2200.80| TRANSFERENCIA|Transferência par...|\n",
      "|          23|    2024-07-20| -85.75|     PAGAMENTO|        Supermercado|\n",
      "|          24|    2024-07-21|-300.20|     PAGAMENTO|          Luz e Água|\n",
      "|          25|    2024-07-22| 250.40|      DEPOSITO|           Reembolso|\n",
      "|          26|    2024-07-23|-150.60|     PAGAMENTO|            Telefone|\n",
      "|          27|    2024-07-24| -45.30|     PAGAMENTO|              Cinema|\n",
      "|          28|    2024-07-25|2000.10| TRANSFERENCIA|Transferência de ...|\n",
      "|          29|    2024-07-26| -95.90|     PAGAMENTO|         Restaurante|\n",
      "|          30|    2024-07-27|2750.75|      DEPOSITO|             Salário|\n",
      "|          31|    2024-07-28|-350.60|     PAGAMENTO|             Aluguel|\n",
      "|          32|    2024-07-29| -80.20|     PAGAMENTO|        Supermercado|\n",
      "|          33|    2024-07-30| -25.40|     PAGAMENTO|  Transporte Público|\n",
      "|          34|    2024-08-01|1600.95|      DEPOSITO| Depósito de Salário|\n",
      "|          35|    2024-08-02|-210.80|         SAQUE|        Saque em ATM|\n",
      "|          36|    2024-08-03| -55.50|     PAGAMENTO|           Cafeteria|\n",
      "|          37|    2024-08-03|2150.60| TRANSFERENCIA|Transferência par...|\n",
      "|          38|    2024-08-04|-110.30|     PAGAMENTO|        Supermercado|\n",
      "|          39|    2024-08-04| -35.20|     PAGAMENTO|  Transporte Público|\n",
      "|          40|    2024-08-05|2650.40|      DEPOSITO| Pagamento Freelance|\n",
      "|          41|    2024-08-06|-310.70|         SAQUE|        Saque em ATM|\n",
      "|          42|    2024-08-07| -25.90|     PAGAMENTO|   Assinatura Online|\n",
      "|          43|    2024-08-07| 510.20|      DEPOSITO|Retorno de Invest...|\n",
      "|          44|    2024-08-08|3300.75|      DEPOSITO|         Bônus Anual|\n",
      "|          45|    2024-08-08|-155.40|     PAGAMENTO|         Restaurante|\n",
      "|          46|    2024-08-09| 820.75| TRANSFERENCIA|Transferência da ...|\n",
      "|          47|    2024-08-09|-220.22|     PAGAMENTO|              Cinema|\n",
      "|          48|    2024-08-10|1350.45|      DEPOSITO|    Reembolso Médico|\n",
      "|          49|    2024-08-11|-200.30|     PAGAMENTO|         Combustível|\n",
      "|          50|    2024-08-12| 500.85|      DEPOSITO|    Prêmio de Seguro|\n",
      "+------------+--------------+-------+--------------+--------------------+\n",
      "\n",
      "root\n",
      " |-- id_transacao: string (nullable = true)\n",
      " |-- data_transacao: string (nullable = true)\n",
      " |-- valor: string (nullable = true)\n",
      " |-- tipo_transacao: string (nullable = true)\n",
      " |-- descricao: string (nullable = true)\n",
      "\n"
     ]
    }
   ],
   "source": [
    "'''\n",
    "Carregue o arquivo financial_data.csv localizado na pasta work.\n",
    "'''\n",
    "\n",
    "df_financial_data = spark.read.options(delimiter=\",\", header=True).csv(source_file_path)\n",
    "\n",
    "df_financial_data.show(100)\n",
    "df_financial_data.printSchema()"
   ]
  },
  {
   "cell_type": "code",
   "execution_count": 5,
   "id": "7e7611f4-3101-4653-921d-2ed61fba02e4",
   "metadata": {},
   "outputs": [
    {
     "name": "stdout",
     "output_type": "stream",
     "text": [
      "+------------+--------------+-------+--------------+--------------------+\n",
      "|id_transacao|data_transacao|  valor|tipo_transacao|           descricao|\n",
      "+------------+--------------+-------+--------------+--------------------+\n",
      "|           1|    2024-07-01|1500.45|      DEPOSITO| Depósito de Salário|\n",
      "|           4|    2024-07-03|2000.78| TRANSFERENCIA|Transferência par...|\n",
      "|           7|    2024-07-05|2500.89|      DEPOSITO| Pagamento Freelance|\n",
      "|          11|    2024-07-08|3200.99|      DEPOSITO|             Salário|\n",
      "|          15|    2024-07-12|1800.75| TRANSFERENCIA|Transferência de ...|\n",
      "|          20|    2024-07-17|1000.65|      DEPOSITO|               Bônus|\n",
      "|          22|    2024-07-19| 2200.8| TRANSFERENCIA|Transferência par...|\n",
      "|          28|    2024-07-25| 2000.1| TRANSFERENCIA|Transferência de ...|\n",
      "|          30|    2024-07-27|2750.75|      DEPOSITO|             Salário|\n",
      "|          34|    2024-08-01|1600.95|      DEPOSITO| Depósito de Salário|\n",
      "|          37|    2024-08-03| 2150.6| TRANSFERENCIA|Transferência par...|\n",
      "|          40|    2024-08-05| 2650.4|      DEPOSITO| Pagamento Freelance|\n",
      "|          44|    2024-08-08|3300.75|      DEPOSITO|         Bônus Anual|\n",
      "|          48|    2024-08-10|1350.45|      DEPOSITO|    Reembolso Médico|\n",
      "+------------+--------------+-------+--------------+--------------------+\n",
      "\n",
      "count: 14\n",
      "root\n",
      " |-- id_transacao: integer (nullable = true)\n",
      " |-- data_transacao: date (nullable = true)\n",
      " |-- valor: double (nullable = true)\n",
      " |-- tipo_transacao: string (nullable = true)\n",
      " |-- descricao: string (nullable = true)\n",
      "\n"
     ]
    }
   ],
   "source": [
    "'''\n",
    ". Converta a coluna \"valor\" para o tipo de dados double.\n",
    ". Filtre as transações com valor acima de 1000.\n",
    "'''\n",
    "\n",
    "df_financial_data_treated = (\n",
    "    df_financial_data\n",
    "        .withColumn(\"valor\", F.col(\"valor\").cast(\"double\"))\n",
    "        .withColumn(\"id_transacao\", F.col(\"id_transacao\").cast(\"int\"))  # formato ideal\n",
    "        .withColumn(\"data_transacao\", F.col(\"data_transacao\").cast(\"date\")) # formato ideal\n",
    "        .filter(\"valor > 1000\")\n",
    ")\n",
    "\n",
    "df_financial_data_treated.show()\n",
    "print(f\"count: {df_financial_data_treated.count()}\")\n",
    "df_financial_data_treated.printSchema()"
   ]
  },
  {
   "cell_type": "code",
   "execution_count": 6,
   "id": "ea416d41-3289-4c77-89a8-f2a0df8a9c57",
   "metadata": {},
   "outputs": [
    {
     "name": "stdout",
     "output_type": "stream",
     "text": [
      "+------------+--------------+-------+--------------+--------------------+\n",
      "|id_transacao|data_transacao|  valor|tipo_transacao|           descricao|\n",
      "+------------+--------------+-------+--------------+--------------------+\n",
      "|          28|    2024-07-25| 2000.1| TRANSFERENCIA|Transferência de ...|\n",
      "|          37|    2024-08-03| 2150.6| TRANSFERENCIA|Transferência par...|\n",
      "|           4|    2024-07-03|2000.78| TRANSFERENCIA|Transferência par...|\n",
      "|          22|    2024-07-19| 2200.8| TRANSFERENCIA|Transferência par...|\n",
      "|          15|    2024-07-12|1800.75| TRANSFERENCIA|Transferência de ...|\n",
      "|          34|    2024-08-01|1600.95|      DEPOSITO| Depósito de Salário|\n",
      "|           1|    2024-07-01|1500.45|      DEPOSITO| Depósito de Salário|\n",
      "|          40|    2024-08-05| 2650.4|      DEPOSITO| Pagamento Freelance|\n",
      "|           7|    2024-07-05|2500.89|      DEPOSITO| Pagamento Freelance|\n",
      "|          48|    2024-08-10|1350.45|      DEPOSITO|    Reembolso Médico|\n",
      "|          44|    2024-08-08|3300.75|      DEPOSITO|         Bônus Anual|\n",
      "|          11|    2024-07-08|3200.99|      DEPOSITO|             Salário|\n",
      "|          30|    2024-07-27|2750.75|      DEPOSITO|             Salário|\n",
      "|          20|    2024-07-17|1000.65|      DEPOSITO|               Bônus|\n",
      "+------------+--------------+-------+--------------+--------------------+\n",
      "\n"
     ]
    }
   ],
   "source": [
    "'''\n",
    ". Salve os dados filtrados em um Delta Lake, particionados pela data da transação, no diretório /home/jovyan/work/delta/financial_data\n",
    ". Crie uma delta table chamada financial_data a partir dos dados salvos.\n",
    "'''\n",
    "\n",
    "df_financial_data_treated.write.format(\"delta\").mode(\"overwrite\").partitionBy(\"data_transacao\").save(target_table_path)\n",
    "spark.sql(f\"CREATE TABLE IF NOT EXISTS {target_table_name} USING DELTA LOCATION '{target_table_path}'\")\n",
    "\n",
    "## ou\n",
    "# df_financial_data_treated.write.format(\"delta\").mode(\"overwrite\").partitionBy(\"data_transacao\").option(\"path\", target_table_path).saveAsTable(target_table_name)\n",
    "\n",
    "# print\n",
    "spark.sql(f\"SELECT * FROM {target_table_name}\").show()"
   ]
  },
  {
   "cell_type": "code",
   "execution_count": 7,
   "id": "26966a47-7e82-4e56-8e31-c6ab328577fd",
   "metadata": {},
   "outputs": [
    {
     "name": "stdout",
     "output_type": "stream",
     "text": [
      "+------------+--------------+-------+--------------+--------------------+\n",
      "|id_transacao|data_transacao|  valor|tipo_transacao|           descricao|\n",
      "+------------+--------------+-------+--------------+--------------------+\n",
      "|          28|    2024-07-25| 2000.1| TRANSFERENCIA|Transferência de ...|\n",
      "|          37|    2024-08-03| 2150.6| TRANSFERENCIA|Transferência par...|\n",
      "|           4|    2024-07-03|2000.78| TRANSFERENCIA|Transferência par...|\n",
      "|          22|    2024-07-19| 2200.8| TRANSFERENCIA|Transferência par...|\n",
      "|          40|    2024-08-05| 2650.4|      DEPOSITO| Pagamento Freelance|\n",
      "|           7|    2024-07-05|2500.89|      DEPOSITO| Pagamento Freelance|\n",
      "|          44|    2024-08-08|3300.75|      DEPOSITO|         Bônus Anual|\n",
      "|          11|    2024-07-08|3200.99|      DEPOSITO|             Salário|\n",
      "|          30|    2024-07-27|2750.75|      DEPOSITO|             Salário|\n",
      "+------------+--------------+-------+--------------+--------------------+\n",
      "\n"
     ]
    }
   ],
   "source": [
    "'''\n",
    "Realize uma consulta para selecionar todas as transações com valor acima de 2000.\n",
    "'''\n",
    "\n",
    "spark.sql(f\"SELECT * FROM {target_table_name} WHERE valor > 2000\").show()\n",
    "\n",
    "# ou\n",
    "# df_delta_financial_data = spark.read.table(target_table_name)\n",
    "# df_delta_financial_data.filter(\"valor > 2000\").show()"
   ]
  },
  {
   "cell_type": "code",
   "execution_count": 8,
   "id": "8dff2a86-cab7-4b61-a792-cfb23ff3574b",
   "metadata": {},
   "outputs": [
    {
     "name": "stdout",
     "output_type": "stream",
     "text": [
      "+-------+--------------------+------+--------+---------+--------------------+----+--------+---------+-----------+--------------+-------------+--------------------+------------+--------------------+\n",
      "|version|           timestamp|userId|userName|operation| operationParameters| job|notebook|clusterId|readVersion|isolationLevel|isBlindAppend|    operationMetrics|userMetadata|          engineInfo|\n",
      "+-------+--------------------+------+--------+---------+--------------------+----+--------+---------+-----------+--------------+-------------+--------------------+------------+--------------------+\n",
      "|      0|2024-08-01 21:05:...|  NULL|    NULL|    WRITE|{mode -> Overwrit...|NULL|    NULL|     NULL|       NULL|  Serializable|        false|{numFiles -> 14, ...|        NULL|Apache-Spark/3.5....|\n",
      "+-------+--------------------+------+--------+---------+--------------------+----+--------+---------+-----------+--------------+-------------+--------------------+------------+--------------------+\n",
      "\n"
     ]
    }
   ],
   "source": [
    "'''\n",
    "Exiba o histórico de versões da delta table.\n",
    "'''\n",
    "\n",
    "spark.sql(f\"DESCRIBE HISTORY {target_table_name}\").show()"
   ]
  },
  {
   "cell_type": "code",
   "execution_count": 11,
   "id": "8b241187-1373-4a7a-af9b-4cc4cbf2e852",
   "metadata": {},
   "outputs": [],
   "source": [
    "'''\n",
    "Adicione os seguintes novos dados à tabela Delta:\n",
    "\n",
    "- id_transacao: 11, data_transacao: '2024-07-08', valor: 3000.95, tipo_transacao: 'DEPOSITO', descricao: 'Bônus Anual'\n",
    "- id_transacao: 12, data_transacao: '2024-07-08', valor: -150.40, tipo_transacao: 'PAGAMENTO', descricao: 'Restaurante'\n",
    "- id_transacao: 13, data_transacao: '2024-07-09', valor: 800.75, tipo_transacao: 'TRANSFERENCIA', descricao: 'Transferência da Conta Corrente'\n",
    "- id_transacao: 14, data_transacao: '2024-07-09', valor: -200.22, tipo_transacao: 'PAGAMENTO', descricao: 'Cinema'\n",
    "'''\n",
    "\n",
    "data = [\n",
    "    (11, datetime.datetime.strptime('2024-07-08', \"%Y-%m-%d\").date(), 3000.95, 'DEPOSITO', 'Bônus Anual'),\n",
    "    (12, datetime.datetime.strptime('2024-07-08', \"%Y-%m-%d\").date(), -150.40, 'PAGAMENTO', 'Restaurante'),\n",
    "    (13, datetime.datetime.strptime('2024-07-09', \"%Y-%m-%d\").date(), 800.75, 'TRANSFERENCIA', 'Transferência da Conta Corrente'),\n",
    "    (14, datetime.datetime.strptime('2024-07-09', \"%Y-%m-%d\").date(), -200.22, 'PAGAMENTO', 'Cinema'),\n",
    "    (15, datetime.datetime.strptime('2024-07-09', \"%Y-%m-%d\").date(), -200.22, 'PAGAMENTO', 'Cinema'),\n",
    "    (992, datetime.datetime.strptime('2024-07-09', \"%Y-%m-%d\").date(), -200.22, 'PAGAMENTO', 'Cinema'),\n",
    "    (993, datetime.datetime.strptime('2024-07-09', \"%Y-%m-%d\").date(), 200.22, 'PAGAMENTO', 'Cinema')\n",
    "]\n",
    "schema = StructType([\n",
    "    StructField(\"id_transacao\", IntegerType(), True),\n",
    "    StructField(\"data_transacao\", DateType(), True),\n",
    "    StructField(\"valor\", DoubleType(), True),\n",
    "    StructField(\"tipo_transacao\", StringType(), True),\n",
    "    StructField(\"descricao\", StringType(), True)\n",
    "])\n",
    "\n",
    "df_new_data = spark.createDataFrame(data, schema)\n",
    "\n",
    "\n",
    "''' \n",
    "    De acordo com a descrição \"Adicione os seguintes novos dados à tabela Delta\" a palavra \n",
    "    \"Adicione\" tem muitos significados, mas pelo meu entendimento é mais próxima da palavra \"Acrescentar\",\n",
    "    ou seja, \"inserir\". Por isso eu priorizei o \"append\". Contudo, como tem um \"id_transacao\", \n",
    "    eu posso entender também que o objetivo seria mesclar os dados. Sendo assim, eu montei também\n",
    "    o código mais abaixo que está comentado.\n",
    "'''\n",
    "\n",
    "## Se for insert... \n",
    "df_new_data.write.format(\"delta\").mode(\"append\").saveAsTable(target_table_name)\n",
    "\n",
    "## Se for merge...\n",
    "# delta_table_financial_data = DeltaTable.forPath(spark, target_table_path)\n",
    "# (\n",
    "#     delta_table_financial_data.alias(\"old\")\n",
    "#         .merge(\n",
    "#             df_new_data.alias(\"new\"),\n",
    "#             \"old.id_transacao = new.id_transacao\"\n",
    "#         )\n",
    "#         .whenMatchedUpdateAll()\n",
    "#         .whenNotMatchedInsertAll()\n",
    "#         .execute()\n",
    "# )"
   ]
  },
  {
   "cell_type": "code",
   "execution_count": 12,
   "id": "13c269c8-0405-4db9-80d0-89ef998959ad",
   "metadata": {},
   "outputs": [
    {
     "name": "stdout",
     "output_type": "stream",
     "text": [
      "+------------+--------------+-------+--------------+--------------------+\n",
      "|id_transacao|data_transacao|  valor|tipo_transacao|           descricao|\n",
      "+------------+--------------+-------+--------------+--------------------+\n",
      "|          28|    2024-07-25| 2000.1| TRANSFERENCIA|Transferência de ...|\n",
      "|          37|    2024-08-03| 2150.6| TRANSFERENCIA|Transferência par...|\n",
      "|           4|    2024-07-03|2000.78| TRANSFERENCIA|Transferência par...|\n",
      "|          22|    2024-07-19| 2200.8| TRANSFERENCIA|Transferência par...|\n",
      "|          15|    2024-07-12|1800.75| TRANSFERENCIA|Transferência de ...|\n",
      "|          34|    2024-08-01|1600.95|      DEPOSITO| Depósito de Salário|\n",
      "|           1|    2024-07-01|1500.45|      DEPOSITO| Depósito de Salário|\n",
      "|          40|    2024-08-05| 2650.4|      DEPOSITO| Pagamento Freelance|\n",
      "|           7|    2024-07-05|2500.89|      DEPOSITO| Pagamento Freelance|\n",
      "|          48|    2024-08-10|1350.45|      DEPOSITO|    Reembolso Médico|\n",
      "|          11|    2024-07-08|3000.95|      DEPOSITO|         Bônus Anual|\n",
      "|          44|    2024-08-08|3300.75|      DEPOSITO|         Bônus Anual|\n",
      "|          11|    2024-07-08|3200.99|      DEPOSITO|             Salário|\n",
      "|          30|    2024-07-27|2750.75|      DEPOSITO|             Salário|\n",
      "|          20|    2024-07-17|1000.65|      DEPOSITO|               Bônus|\n",
      "+------------+--------------+-------+--------------+--------------------+\n",
      "\n"
     ]
    }
   ],
   "source": [
    "'''\n",
    "Realize uma consulta para selecionar todas as transações com valor acima de 1000.\n",
    "'''\n",
    "\n",
    "spark.sql(f\"\"\"\n",
    "    SELECT * \n",
    "    FROM {target_table_name} \n",
    "    WHERE valor > 1000\n",
    "\"\"\").show()"
   ]
  },
  {
   "cell_type": "code",
   "execution_count": 13,
   "id": "22daef9d-072f-48fa-83ca-b6ca7d423aad",
   "metadata": {},
   "outputs": [
    {
     "name": "stdout",
     "output_type": "stream",
     "text": [
      "+--------------+--------+\n",
      "|tipo_transacao|   valor|\n",
      "+--------------+--------+\n",
      "| TRANSFERENCIA|10953.78|\n",
      "|      DEPOSITO|22857.23|\n",
      "|     PAGAMENTO| -550.84|\n",
      "+--------------+--------+\n",
      "\n"
     ]
    }
   ],
   "source": [
    "'''\n",
    "Agrupe as transações por tipo e some os valores.\n",
    "'''\n",
    "\n",
    "spark.sql(f\"\"\"\n",
    "    SELECT tipo_transacao, ROUND(SUM(valor), 2) valor \n",
    "    FROM {target_table_name} \n",
    "    GROUP BY tipo_transacao\n",
    "\"\"\").show()"
   ]
  }
 ],
 "metadata": {
  "kernelspec": {
   "display_name": "Python 3 (ipykernel)",
   "language": "python",
   "name": "python3"
  },
  "language_info": {
   "codemirror_mode": {
    "name": "ipython",
    "version": 3
   },
   "file_extension": ".py",
   "mimetype": "text/x-python",
   "name": "python",
   "nbconvert_exporter": "python",
   "pygments_lexer": "ipython3",
   "version": "3.11.6"
  }
 },
 "nbformat": 4,
 "nbformat_minor": 5
}
